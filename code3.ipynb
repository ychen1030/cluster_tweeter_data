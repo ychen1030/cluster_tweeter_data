{
 "cells": [
  {
   "cell_type": "code",
   "execution_count": 2,
   "metadata": {},
   "outputs": [],
   "source": [
    "import numpy as np\n",
    "import json\n",
    "from sklearn.cluster import MiniBatchKMeans, KMeans, DBSCAN\n",
    "import time"
   ]
  },
  {
   "cell_type": "markdown",
   "metadata": {},
   "source": [
    "### Load Tweeter Data"
   ]
  },
  {
   "cell_type": "code",
   "execution_count": 3,
   "metadata": {},
   "outputs": [],
   "source": [
    "# with open('../Assignment 2/tweets/tweets_1M.json') as data_file:    \n",
    "with open('./tweets_1M.json') as data_file:    \n",
    "    data = json.load(data_file)"
   ]
  },
  {
   "cell_type": "markdown",
   "metadata": {},
   "source": [
    "## Q3.1"
   ]
  },
  {
   "cell_type": "code",
   "execution_count": 4,
   "metadata": {},
   "outputs": [
    {
     "name": "stdout",
     "output_type": "stream",
     "text": [
      "n =  100 CPU time is  0.2958028316497803\n",
      "n =  1000 CPU time is  0.3699512481689453\n",
      "n =  2000 CPU time is  0.4626655578613281\n",
      "n =  4000 CPU time is  0.6840007305145264\n",
      "n =  6000 CPU time is  1.2058444023132324\n",
      "n =  8000 CPU time is  1.3437771797180176\n",
      "n =  10000 CPU time is  1.4655070304870605\n",
      "n =  20000 CPU time is  2.71087384223938\n",
      "n =  40000 CPU time is  5.046745538711548\n",
      "n =  60000 CPU time is  8.955582618713379\n",
      "n =  80000 CPU time is  12.3194420337677\n",
      "n =  100000 CPU time is  15.872572183609009\n"
     ]
    }
   ],
   "source": [
    "k = 100\n",
    "N = [10**2, 10**3, 2*10**3, 4*10**3, 6*10**3, 8*10**3, 10**4, 2*10**4, 4*10**4, 6*10**4, 8*10**4, 10**5]\n",
    "t_clustering_n = []\n",
    "for n in N:\n",
    "    curr = [[d['lat'], d['lng']] for d in data[:n]]\n",
    "    t0 = time.time()\n",
    "    _ = KMeans(n_clusters=k, max_iter=10000).fit(curr)\n",
    "    t_clustering = time.time() - t0\n",
    "    t_clustering_n.append(t_clustering)\n",
    "    print('n = ', n, 'CPU time is ', t_clustering)"
   ]
  },
  {
   "cell_type": "code",
   "execution_count": 22,
   "metadata": {},
   "outputs": [
    {
     "name": "stdout",
     "output_type": "stream",
     "text": [
      "k =  10 CPU time is  2.288602828979492\n",
      "k =  50 CPU time is  18.544316053390503\n",
      "k =  100 CPU time is  38.5298171043396\n",
      "k =  200 CPU time is  105.7336356639862\n",
      "k =  500 CPU time is  328.12894105911255\n",
      "k =  1000 CPU time is  673.9429159164429\n"
     ]
    }
   ],
   "source": [
    "K = [10, 50, 100, 200, 500, 1000]\n",
    "data_k = [[d['lat'], d['lng']] for d in data[:10**5]]\n",
    "t_clustering_k = []\n",
    "for k in K:\n",
    "    t0 = time.time()\n",
    "    _ = KMeans(n_clusters=k, max_iter=10000).fit(data_k)\n",
    "    t_clustering = time.time() - t0\n",
    "    t_clustering_k.append(t_clustering)\n",
    "    print('k = ', k, 'CPU time is ', t_clustering)"
   ]
  },
  {
   "cell_type": "markdown",
   "metadata": {},
   "source": [
    "## Q3.2"
   ]
  },
  {
   "cell_type": "code",
   "execution_count": 17,
   "metadata": {},
   "outputs": [
    {
     "name": "stdout",
     "output_type": "stream",
     "text": [
      "n = 100 , CPU time is 0.22351384162902832 increased by 73.37952544659933 %\n",
      "n = 1000 , CPU time is 0.3039970397949219 increased by 72.62052185355435 %\n",
      "n = 2000 , CPU time is 0.1799759864807129 increased by 86.68371435733434 %\n",
      "n = 4000 , CPU time is 0.24611902236938477 increased by 88.30071493502821 %\n",
      "n = 6000 , CPU time is 0.4694957733154297 increased by 83.4359483881995 %\n",
      "n = 8000 , CPU time is 0.22918081283569336 increased by 93.15420804184387 %\n",
      "n = 10000 , CPU time is 0.9284617900848389 increased by 75.06042845266721 %\n",
      "n = 20000 , CPU time is 0.4941880702972412 increased by 93.08286608133062 %\n",
      "n = 40000 , CPU time is 2.0515658855438232 increased by 90.13373651642785 %\n",
      "n = 60000 , CPU time is 5.491419076919556 increased by 77.69648599895504 %\n",
      "n = 80000 , CPU time is 1.1916799545288086 increased by 95.97550818200214 %\n",
      "n = 100000 , CPU time is 1.4075579643249512 increased by 96.30351397107405 %\n"
     ]
    }
   ],
   "source": [
    "for i in range(len(N)):\n",
    "    curr = [[d['lat'], d['lng']] for d in data[:N[i]]]\n",
    "    t0 = time.time()\n",
    "    _ = MiniBatchKMeans(n_clusters=100, max_iter=10000).fit(curr)\n",
    "    t_clustering = time.time() - t0\n",
    "    increase = (t_clustering_n[i] - t_clustering) / t_clustering_n[i] * 100\n",
    "    print('n =', N[i], ', CPU time is', t_clustering, 'increased by', increase, \"%\")"
   ]
  },
  {
   "cell_type": "code",
   "execution_count": 24,
   "metadata": {},
   "outputs": [
    {
     "name": "stdout",
     "output_type": "stream",
     "text": [
      "k = 10 , CPU time is 0.8022170066833496 increased by 64.94730337106745 %\n",
      "k = 50 , CPU time is 3.549004077911377 increased by 80.86203843973796 %\n",
      "k = 100 , CPU time is 1.2910478115081787 increased by 96.64922413721303 %\n",
      "k = 200 , CPU time is 1.0156538486480713 increased by 99.03942218361266 %\n",
      "k = 500 , CPU time is 3.6834230422973633 increased by 98.87744646040417 %\n",
      "k = 1000 , CPU time is 6.774209022521973 increased by 98.99483934580569 %\n"
     ]
    }
   ],
   "source": [
    "for i in range(len(K)):\n",
    "    t0 = time.time()\n",
    "    _ = MiniBatchKMeans(n_clusters=K[i], max_iter=10000, init_size=3*K[i]).fit(data_k)\n",
    "    t_clustering = time.time() - t0\n",
    "    increase = (t_clustering_k[i] - t_clustering) / t_clustering_k[i] * 100\n",
    "    print('k =', K[i], ', CPU time is', t_clustering, 'increased by', increase, \"%\")"
   ]
  },
  {
   "cell_type": "markdown",
   "metadata": {},
   "source": [
    "## Q3.3"
   ]
  },
  {
   "cell_type": "code",
   "execution_count": 62,
   "metadata": {},
   "outputs": [
    {
     "name": "stdout",
     "output_type": "stream",
     "text": [
      "128\n"
     ]
    }
   ],
   "source": [
    "# Reference: https://scikit-learn.org/stable/auto_examples/cluster/plot_dbscan.html\n",
    "data3 = [[d['lat'], d['lng']] for d in data[:100000]]\n",
    "clustering = DBSCAN(eps=0.004, min_samples=100, n_jobs=3).fit(data3)\n",
    "print(len(set(clustering.labels_)) - (1 if -1 in clustering.labels_ else 0))"
   ]
  },
  {
   "cell_type": "code",
   "execution_count": 8,
   "metadata": {},
   "outputs": [
    {
     "name": "stdout",
     "output_type": "stream",
     "text": [
      "eps = 0.005 Estimated number of clusters: 143\n",
      "eps = 0.01 Estimated number of clusters: 105\n",
      "eps = 0.1 Estimated number of clusters: 27\n",
      "eps = 0.2 Estimated number of clusters: 10\n",
      "eps = 0.3 Estimated number of clusters: 4\n"
     ]
    }
   ],
   "source": [
    "for i in [0.005, 0.01, 0.1, 0.2, 0.3]:\n",
    "    data3 = [[d['lat'], d['lng']] for d in data[:100000]]\n",
    "    clustering = DBSCAN(eps=i, min_samples=100, n_jobs=3).fit(data3)\n",
    "    n_clusters_ = len(set(clustering.labels_)) - (1 if -1 in clustering.labels_ else 0)\n",
    "    print(\"eps =\", i, \"Estimated number of clusters:\", n_clusters_)"
   ]
  },
  {
   "cell_type": "code",
   "execution_count": 63,
   "metadata": {},
   "outputs": [
    {
     "name": "stdout",
     "output_type": "stream",
     "text": [
      "eps = 1e-05 Estimated number of clusters: 5\n",
      "eps = 0.0001 Estimated number of clusters: 18\n",
      "eps = 0.001 Estimated number of clusters: 59\n",
      "eps = 0.002 Estimated number of clusters: 92\n",
      "eps = 0.003 Estimated number of clusters: 104\n"
     ]
    }
   ],
   "source": [
    "for i in [0.00001, 0.0001, 0.001, 0.002, 0.003]:\n",
    "    data3 = [[d['lat'], d['lng']] for d in data[:100000]]\n",
    "    clustering = DBSCAN(eps=i, min_samples=100, n_jobs=3).fit(data3)\n",
    "    n_clusters_ = len(set(clustering.labels_)) - (1 if -1 in clustering.labels_ else 0)\n",
    "    print(\"eps =\", i, \"Estimated number of clusters:\", n_clusters_)"
   ]
  },
  {
   "cell_type": "markdown",
   "metadata": {},
   "source": [
    "## Q3.4"
   ]
  },
  {
   "cell_type": "code",
   "execution_count": 17,
   "metadata": {},
   "outputs": [],
   "source": [
    "data4 = np.array([[d['lat'], d['lng']] for d in data])"
   ]
  },
  {
   "cell_type": "code",
   "execution_count": 18,
   "metadata": {},
   "outputs": [],
   "source": [
    "# first step of clustering using mini batch k-means\n",
    "k = 1000000//100000\n",
    "clustering_1 = MiniBatchKMeans(n_clusters=k, max_iter=10000).fit(data4)"
   ]
  },
  {
   "cell_type": "code",
   "execution_count": 53,
   "metadata": {},
   "outputs": [],
   "source": [
    "# Reference: https://stackoverflow.com/questions/19412462/getting-distance-between-two-points-based-on-latitude-longitude\n",
    "# approximate radius of earth in meters\n",
    "from math import sin, cos, sqrt, atan2, radians\n",
    "def measure(loc1, loc2):\n",
    "    R = 6373.0\n",
    "    lat1 = radians(loc1[0])\n",
    "    lon1 = radians(loc1[1])\n",
    "    lat2 = radians(loc2[0])\n",
    "    lon2 = radians(loc2[1])\n",
    "\n",
    "    dlon, dlat = lon2 - lon1, lat2 - lat1\n",
    "    a = sin(dlat / 2)**2 + cos(lat1) * cos(lat2) * sin(dlon / 2)**2\n",
    "    c = 2 * atan2(sqrt(a), sqrt(1 - a))\n",
    "    return R * c"
   ]
  },
  {
   "cell_type": "code",
   "execution_count": 26,
   "metadata": {},
   "outputs": [
    {
     "name": "stdout",
     "output_type": "stream",
     "text": [
      "label: 0 cluster added\n",
      "label: 1 cluster added\n",
      "label: 2 cluster added\n",
      "label: 3 cluster added\n",
      "label: 4 cluster added\n",
      "label: 5 cluster added\n",
      "label: 6 cluster added\n",
      "label: 7 cluster added\n",
      "label: 8 cluster added\n",
      "label: 9 cluster added\n"
     ]
    }
   ],
   "source": [
    "# second step of clustering using DBSCAN\n",
    "# 1 degree ~= 111,000m\n",
    "# 100m ~= 0.0009\n",
    "# therefore estimated eps = 0.001\n",
    "clustering_2 = []\n",
    "for label in range(k):\n",
    "    data_batch = data4[clustering_1.labels_ == label]\n",
    "    cluster = DBSCAN(eps=0.001, min_samples=100, n_jobs=-1).fit(data_batch)\n",
    "    print(\"label:\", label, \"cluster added\")\n",
    "    clustering_2.append(cluster)"
   ]
  },
  {
   "cell_type": "code",
   "execution_count": 54,
   "metadata": {},
   "outputs": [
    {
     "name": "stdout",
     "output_type": "stream",
     "text": [
      "label: 0 cluster added\n",
      "label: 1 cluster added\n",
      "label: 2 cluster added\n",
      "label: 3 cluster added\n",
      "label: 4 cluster added\n",
      "label: 5 cluster added\n",
      "label: 6 cluster added\n",
      "label: 7 cluster added\n",
      "label: 8 cluster added\n",
      "label: 9 cluster added\n"
     ]
    }
   ],
   "source": [
    "# calculate the exact distances with callable metric function is too slow\n",
    "clustering_3 = []\n",
    "for label in range(10):\n",
    "    data_batch = data4[clustering_1.labels_ == label]\n",
    "    cluster = DBSCAN(eps=0.1, min_samples=100, metric=measure, n_jobs=-1).fit(data_batch)\n",
    "    print(\"label:\", label, \"cluster added\")\n",
    "    clustering_3.append(cluster)"
   ]
  },
  {
   "cell_type": "code",
   "execution_count": 28,
   "metadata": {},
   "outputs": [
    {
     "name": "stdout",
     "output_type": "stream",
     "text": [
      "Estimated number of important location is: 1605\n"
     ]
    }
   ],
   "source": [
    "n_clusters_ = []\n",
    "for i in range(len(clustering_2)):\n",
    "    n_clusters_.append(len(set(clustering_2[i].labels_)) - (1 if -1 in clustering_2[i].labels_ else 0))\n",
    "print(\"Estimated number of important location is:\", sum(n_clusters_))"
   ]
  },
  {
   "cell_type": "code",
   "execution_count": 58,
   "metadata": {},
   "outputs": [
    {
     "name": "stdout",
     "output_type": "stream",
     "text": [
      "Estimated number of important location is: 1605\n"
     ]
    }
   ],
   "source": [
    "n_clusters_3 = []\n",
    "for i in range(len(clustering_3)):\n",
    "    n_clusters_3.append(len(set(clustering_3[i].labels_)) - (1 if -1 in clustering_3[i].labels_ else 0))\n",
    "print(\"Estimated number of important location is:\", sum(n_clusters_3))"
   ]
  },
  {
   "cell_type": "code",
   "execution_count": 70,
   "metadata": {},
   "outputs": [
    {
     "name": "stdout",
     "output_type": "stream",
     "text": [
      "Total time to cluster the full 1 million Tweeter records is 16.14872407913208\n"
     ]
    }
   ],
   "source": [
    "# rerun the chosen process for timing purposes\n",
    "t0 = time.time()\n",
    "    \n",
    "k = 1000000//100000\n",
    "clustering_1 = MiniBatchKMeans(n_clusters=k, max_iter=10000).fit(data4)\n",
    "\n",
    "clustering_2 = []\n",
    "for label in range(k):\n",
    "    data_batch = data4[clustering_1.labels_ == label]\n",
    "    cluster = DBSCAN(eps=0.001, min_samples=100, n_jobs=-1).fit(data_batch)\n",
    "    clustering_2.append(cluster)\n",
    "\n",
    "t_clustering = time.time() - t0\n",
    "print('Total time to cluster the full 1 million Tweeter records is', t_clustering)"
   ]
  },
  {
   "cell_type": "markdown",
   "metadata": {},
   "source": [
    "## Q3.5 (Bonus +5)"
   ]
  },
  {
   "cell_type": "code",
   "execution_count": 93,
   "metadata": {},
   "outputs": [],
   "source": [
    "# Reference: https://scikit-learn.org/stable/auto_examples/cluster/plot_dbscan.html\n",
    "import matplotlib.pyplot as plt\n",
    "\n",
    "def visualize_cluster(cluster1_label, cluster2_label):\n",
    "    labels = clustering_2[cluster1_label].labels_\n",
    "    unique_labels = {cluster2_label}\n",
    "    colors = [plt.cm.Spectral(each) for each in np.linspace(0, 1, len(unique_labels))]\n",
    "\n",
    "    data_batch = data4[clustering_1.labels_ == cluster1_label]\n",
    "    for k, col in zip(unique_labels, colors):\n",
    "        xy = data_batch[labels == k]\n",
    "        plt.plot(xy[:, 0], xy[:, 1], 'o', markerfacecolor=tuple(col), markersize=2, markeredgewidth=0.0)\n",
    "    \n",
    "    lat, lon = np.mean(xy[:, 0]), np.mean(xy[:, 1])\n",
    "    print(\"lat:\", lat, \"lon:\", lon)\n",
    "    plt.plot(lat, lon, 'bo')\n",
    "    plt.show()"
   ]
  },
  {
   "cell_type": "code",
   "execution_count": 94,
   "metadata": {},
   "outputs": [
    {
     "name": "stdout",
     "output_type": "stream",
     "text": [
      "lat: 37.38257703593221 lon: -122.03987915677966\n"
     ]
    },
    {
     "data": {
      "image/png": "[encoded data removed]",
      "text/plain": [
       "<Figure size 432x288 with 1 Axes>"
      ]
     },
     "metadata": {
      "needs_background": "light"
     },
     "output_type": "display_data"
    }
   ],
   "source": [
    "visualize_cluster(0, 99)"
   ]
  },
  {
   "cell_type": "code",
   "execution_count": 98,
   "metadata": {},
   "outputs": [
    {
     "name": "stdout",
     "output_type": "stream",
     "text": [
      "😒\n",
      "Best ringtone ever lmfao\n",
      "Idk how it happened but I listened to all of Lana del gey's albums on spotify and now I love her\n",
      "I feel so adult cause of today's event. But then I look at my @Louis_Tomlinson wall lmfao\n",
      "God I love baseball\n",
      "I love how happy people are for me. Unlike my stupid coworkers that think I'm just bragging and think I'm too cool. Get real.\n",
      "@marissayall is the game against mi escuelita?\n",
      "My purse and earphones are downstairs. Blah.\n",
      "I just wanna go to twin peeks again. It should be spelled peeks.\n",
      "Too much tweeting today.\n",
      "I'm just so happy and full of joy and determination and all the good stuff. In the words of CJ Johnson, \"you can't stop me!\"\n",
      "And soooo relieved.\n",
      "Goodnight\n",
      "Te amo!!! Nite nite \n",
      "@juanmarinbear\n",
      "@keyladelarge viejaaa manifiestatee xD necesito platikarsss\n",
      "I don't even know what it's like to wake up without a headache anymore lol\n",
      "@keyladelarge 😂 si estuviera alla te llevaria una caja de donas dw krispy cream, un helado de nutella y un chai latte\n",
      "@keyladelarge ntp seguro pasas tu eres super inteligenta 😜👯👻\n",
      "Still in my work clothes! Lol\n",
      "Can we recreate this already @AnarchyMyDeer http://t.co/sDA8xI4kzm\n",
      "#squiggly\n",
      "The musty book\n",
      "😔\n",
      "FaceTime'd with my best friend last night. So happy! Watched her lil baby sleep so adorable I cant wait to see her in December!\n",
      "And can't wait for Disneyland with my friend in January ahhhh\n",
      "I wish I could go in December but I can't take time off from work in December if I want to keep that job lol\n",
      "@Louis_Tomlinson can't wait!\n",
      "@Real_Liam_Payne @1DThisIsUs I NEED TO SEE IT DIS WEEKEND DEN\n",
      "Ugh forgot I have to got to redwood city\n",
      "But that's ok cause I get to drive my lil car\n",
      "Some people take too much for granted...\n",
      "Sumergida en la profundidad de mis mocos\n",
      "“@TexasMonthly: And, just like that, Aggies up 14-0 over the people who put mayonnaise on their BBQ.” Hehe\n",
      "@AnarchyMyDeer @marissayall has band :(\n",
      "Sad bc @BentyyFresh thought I was a sophomore\n",
      "I can't get over Lou's little laugh when he had to wake up Zayn OMG\n",
      "Freakin little rob Lowe 😍\n",
      "@keyladelarge key si vienes a la de diciembre vdd?\n",
      "Too much food for little ivan rn\n",
      "@10MARCY ughjjjhhj 😒😒😒\n",
      "I love @HilaryDuff in gossip girl!\n",
      "@marissayall \"I just fart\"\n",
      "I really enjoy traveling during dawn and dusk; love seeing streetlights zoom by, quite a relaxing experience.\n",
      "@keyladelarge hajajaja el espacio es reducido jajaja xD te tengo una propuesta indecorosa\n",
      "And on that note, smoothest Caltrain trip to/from city thus far.\n",
      "Seeing @1DThisIsUs felt like being at the concert again. I loved it. Ahhh\n",
      "“@bajito69: #Truetho\n",
      "#VIVAMEXICO! http://t.co/c1pAKOxgSN” LOL!!!\n",
      "Happy Birthday @GarrettZieske   13 years old.  I love you son.\n",
      "😒\n",
      "@CatherineQ why the difference in launch windows?\n",
      "YAY!  New @thekillers November 11 and new @onedirection November 25!!!\n",
      "Already love shot at the night\n",
      "@thekillers just added to the awesomeness that has been the past week\n",
      "@AnarchyMyDeer did y'all buy your bridge school tickets?\n",
      "@TheNewBayBridge wants to hug you @kotiehalt ! ☺💚\n",
      "@AnarchyMyDeer arctic monkeys is next week isn't it? Lol September 26th\n",
      "@AnarchyMyDeer @marissayall lolllll\n",
      "@TheNewBayBridge awww congrats I'm so proud of you! Hope I can cross you soon!!!\n",
      "I'm really having a conversation with a bridge. #livinthelife!\n",
      "Is @AnarchyMyDeer ok? I think she may have passed out from excitement??!!!?\n",
      "@kotiehalttttt just noticed you went public. Made my night. Now I can RT your awesomeness yay!!!!! 💚💚💚\n",
      "I wanna go to a @LanaDelRey show\n",
      "God damn it I forgot to FaceTime my friend again I need to see that baby\n",
      "Happy birthday @bazluhrmann\n",
      "@ajetsetgirl metaphorical or literal?\n",
      "I can't sleep.\n",
      "I'm sleepy as hell\n",
      "I despise our dumbass neighbor\n",
      "Are you freakin kidding me. It's freakin almost midnight.\n",
      "I also think I slept too much earlier and went to bed too early\n",
      "But our neighbor still dumb as hayl\n",
      "I get tired of gossip girl sometimes but it reels me back in and gets so good\n",
      "@marissayall you'll be great no matter where you go! #hermanita\n",
      "I hate that when people ask me where my sister wants to go to college and I tell them Humboldt they'll be like \"oh she smokes weed\" like wow\n",
      "I guess EVERYONE there does it... Or that's the only reason for anyone to go there\n",
      "Or they'll say no one will take her seriously in the future because she has a Humboldt degree...\n",
      "Actually. Only two people have said this to me\n",
      "And they're both the people no one likes at work lol\n",
      "I like one of them, he's crazy but cool and has good intentions.\n",
      "The other is the kind of person I hate. Agrees with you on everything even though you've heard them have a different opinion elsewhere...\n",
      "\"Maybe she does it and you don't even know it\" shut up. I hope your kid does all the shit you don't like behind your back\n",
      "Tweeting and texting even tho we're like, feet away\n",
      "Where can I get my copy of the musty book\n",
      "I almost told my dad today I want to quit soon\n",
      "I'm tired of a large number of my coworkers.\n",
      "@kotiehalttttt I know for realz doe. People are laaame.\n",
      "@RealMichelleT corny, but I love you, just hate that you had to be Georgina. You did an awesome job though, can't see anyone else being her!\n",
      "But am I really ready to say goodbye to this iOS?\n",
      "Can I just walk away from all that Steve jobs made? Lol\n",
      "I was sooooo cold last night\n",
      "@saammiiYO you can probably get more of your wifi signal down at Starbucks than from your room...\n",
      "@saammiiYO I used to get more of our wifi's signal from the store across the street than I did in my room when we lived at the house hahaha\n",
      "@bajito69 Hola no se acuerda de mi don Jaimito?\n",
      "I wanna go to sleep cause I gotta be a work at 6 but I'm waiting for my dad's update to be done lol\n",
      "@marissayall is upset\n",
      "@Marky182205 @armcannon\n",
      "Thanks for the follow @Marky182205 @Thrill_Quest @armcannon\n",
      "@MalinOud @PekingMike every Chinese kid knows that poem by heart! Happy mid autumn!\n",
      "“@MalinOud: 静夜思 \n",
      " \n",
      "床前明月光， \n",
      "疑是地上霜。 \n",
      "举头望明月， \n",
      "低头思故乡。” A poem every Chinese student would know by heart. Happy mid autumn!\n",
      "Hola\n",
      "I could sit here and watch gossip girl but I think it's time for a walk :)\n",
      "Is the hangover 3 on ppv or anything yet\n",
      "This is how I'm gonna tell the cute meat delivery guy next time that I find him unfreakinbelievably attractive lol http://t.co/0ERNYq48c0\n",
      "And this will be me tomorrow if the people I hate at work do the things I hate yet freakin again... #tickingtimebomb http://t.co/0vwJFpdaN9\n",
      "I want my ID/license already where is it you slow @CA_DMV\n",
      "#nowwatching Who Framed Roger Rabbit. Love this movie!\n",
      "Bouta play gtaV!\n",
      "@zaynmalik I wish\n",
      "@AnarchyMyDeer I have to plug in the ps3 if I wanna play so nvm hahaha too lazy\n",
      "Instead I'm gonna go shopping for myself. Haven't in a while. 👖👚👠👗👜💄\n",
      "@AnarchyMyDeer wanna come over. You can plug it in haha\n",
      "@AnarchyMyDeer I should drop off my brother's play station while I go shopping hahaa\n",
      "I don't like being alone at home it's scurry hahaha\n",
      "Badass graphics doe #GTAV\n",
      "@bajito69 yeah my brother did. I suck at this game. Lol\n",
      "Hay una intrusa muy apestos en nuestro cuarto @juanmarinbear http://t.co/QbBgwdXRrT\n",
      "Starving\n",
      "God I should have eaten lmfao\n",
      "@Ivounz aca tambien! Ya sentia que se venia el gran diluvio jaja\n",
      "@marissayall YO WUT UP G http://t.co/JDF0MQBZhN\n",
      "@Ivounz awww que padre todos reunidos! Estaremos echos bola en el apartamento pero todos felices de tenerlos!!! I can't wait\n",
      "I have 40 mins to clean the room. I'm so lazy\n",
      "Putin defends Berlusconi's \"special attitude to the beautiful sex\" http://t.co/TJWQGm3Fyh\n",
      "\n",
      "Rethink your life if Putin is defending you.\n",
      "@niais tons of Sudafed?\n",
      "@Harry_Styles cutie\n",
      "Everytime I hear @JoseCanseco's name I think of Liar Liar \"I'm Jose Canseco!!\"\n",
      "I feel so proper and cute and old lady like in my outfit today lmfao\n",
      "@niais someone recommended ginger tea to me once. Never tried but you might find it helpful. Hope you recover soon!\n",
      "Let me cry for 3 minutes then I'll leave to work\n",
      "#ihateeveryone\n",
      "Sportd always make it so difficult to say \"yup I'm from minnesota!\" #shame #skolvikings\n",
      "Love the little things like the changing background in @Yahoo weather app. http://t.co/7fuZaiQgvo\n",
      "LOL @marissayall @AnarchyMyDeer http://t.co/xwbpLjtQaB\n",
      "@huijennychenmd why is that?\n",
      "Just made a trip to the DMV to become the owner of my car and to Watsonville to pay for it so now it's officially mine woohoo! Busy evening!\n",
      "@saammiiYO especially when there's mostly people you don't even know... It's happening to me right now. Don't reply to ME estupido lol\n",
      "“@marissayall: who gives a fuck about an oxford comma” LMFAO WHAr\n",
      "@marissayall oh I thought it was like a writing thing or something from ap lit\n",
      "@AnarchyMyDeer @marissayall i thought that your teacher said make sure to use the Oxford comma in your essays! I'm dumb lol\n",
      "@AnarchyMyDeer haha Frickin cat folder\n",
      "@bajito69 lmao!\n",
      "There's gotta be a special place in hell for people who tell horrible lies about others to make themselves look like the best people ever.\n",
      "@marissayall wut\n",
      "I want to play #gtaV but my mom is watching Mexican cooking shows\n",
      "@nandocastro7 ay si muy pisteador haz de ser cabron jajaja @ivounz si puro pay pau para mi jejee\n",
      "@ClubSantos ojala que este bien 😣\n",
      "Watching the dodgers game and the santos game with my dad.\n",
      "We didn't change back to the dodgers game after osmar mares' fall and we missed @TheRealMattKemp's homer :(\n",
      "@bajito69 jajaja hop right in! #BleedBlue\n",
      "@bajito69 you're already sangre azul. Just a different blue. A better blue. #awholenewblue\n",
      "“@WSJ: Why does this sport coat cost $21,000? A look at the vicuña jacket: http://t.co/K8neNnYY4S” Wow. Insane.\n",
      "Come on A-Gon!! Do yo thang paisano! @AdrianTitan23\n",
      "I wonder what giants fans are feeling seeing Wilson there in beautiful blue lol\n",
      "LMFAO the lil ball just kept rolling\n",
      "Here comes Wilson damn\n",
      "This is just so weird to me. Lol\n",
      "I feel so bad. All the booing. Whatevs. Y'all suck this year deal wit it\n",
      "\"Hasta que hicieron algo decente\" my dad about the giants fans that clapped\n",
      "God I'm so nervous right now\n",
      "Lmao. \"Help! My mom is a dodgers fan!\" Sign\n",
      "It has a Wikipedia page lol http://t.co/H6Ds1kRXYv\n",
      "Ugh here comes panda lol\n",
      "I can't retweet my sister I'm goin be depressed for years now\n",
      "Does anyone care about my feelings at all. Prob not.\n",
      "Well in case anyone cared, I do have them.\n",
      "I guess now's a good time to grow up.\n",
      "I just want it to be Friday already so I can play gta forever\n",
      "@Real_Liam_Payne's wedding cake http://t.co/pTue3CKL4G\n",
      "Ok. I'll stop RTing\n",
      "Al final de la vida sera mejor contar las experiencias que viviste que el dinero que juntaste.\n",
      "@AnarchyMyDeer did marissa give you all my imfo\n",
      "بعد اسبوعين يبدا نظام تاجير العماله المنزليه بالساعه \n",
      "\n",
      "ياصبااااح الخيييييييييييير\n",
      "@AstroKatie @TenureSheWrote handy list for male professionals too\n",
      "@ZachGersh that retweet was well earned.\n",
      "@lukew what are the P0 bugs then?\n",
      "@kathrynschulz what languages did he know? English was my third and best but I still make English mistakes that are grammatical in Chinese.\n",
      "@kathrynschulz Sorry, didn't mean to imply he isn't alive. Correct grammar is so important!\n",
      "Started reading Good Math by @MarkCC . Rediscovering the beauty and my love of math after over a decade of avoiding it.\n",
      "I still feel like barfing\n",
      "Ok. Gonna watch the @GreysABC premiere. I'm so scared\n",
      "OMG deb\n",
      "I love it when my phone rings. Love my ringtone lol\n",
      "Hey @AprilKepnerGSM... I'll take Matt if you don't want him 😍😍😍\n",
      "Just because I'm the one who said it was time, this is not easy for me.\n",
      "@niais Didn't the same happen with Newt Gingrich? And IIRC his wife was sick with cancer at the time.\n",
      "Dear Brandon flowers be Mine please. Thanks.\n",
      "@Ivounz @Official1DMex JAJAJAJJAA CLAROOOOOO. #miprimameconocemuybien\n",
      "@NegarMortazavi care to explain?\n",
      "@MenendezJM un accidente y tiene casi todo el cuerpo quemado lo estan atendiendo en tx pero no les alcanza el $ lo han estado operando mucho\n",
      "TIL: millisecond pulsars are more precise than atomic clocks and there are such a thing as pulsar clocks: http://t.co/inOQVHx9gs\n",
      "Since I'm gonna stay and do nothing at all today I shall go walking somewhere\n",
      "Playing #gtaV a lil before i clean lol\n",
      "@Ivounz awww my poor baby :(\n",
      "I'm gonna take one of the classes in the city of Sunnyvale guide like a lil adult\n",
      "Finally took the plunge. Don't let me down DFW. http://t.co/zgbl0BHlgD\n",
      "Sitting here listening to some Filipinos having a party by the pool and laughing. So funny lol\n",
      "“@marissayall: REALLY BAD SELFIE WITH DA BAND http://t.co/fmUdyJVm9b” cutiezz\n",
      "@Ivounz cuando vengas vamos a chilis. Alli lleve a Cesar cuando llegó jaja\n",
      "Ok Getting off twitter. Everyone's tweeting about a show I don't really care about lol gonna fold laundry and watch gossip girl\n",
      "@Louis_Tomlinson I still love you\n",
      "@zaynmalik good evening sir\n",
      "It's almost October and I got sunburned today. 😳😎\n",
      "Classes are canceled tomorrow due to the entire city shutting off power. So happy, but that means I gotta get ish done.\n",
      "BADGER AND SKINNY PETE FOR THE WIN! @BreakingBad_AMC @BrBaQuotes\n",
      "I didn't cry during the finale of Dexter but I just balled my eyes out for Breaking Bad. What does that say?\n",
      "Listing failures who succeeded again is half the story. I want failures who didn't get up again. How hard did they fall? #survivorshipbias\n",
      "@johnsheehan My first thought when I saw that was \"Welcome back IE\"\n",
      "Watching @BryanCranston as Hammond Druthers post-Breaking Bad is a whole new experience.\n",
      "@enneff makes sense on a plane because people w. too many carryons will take other's space. Been on a plane w. empty rows but no overhead.\n",
      "Why do my sister and I have the best times ever god we're so cool\n",
      "@prrrsiankitten we shall find out won't we? I'm going to sing the refrain from Big Yellow Taxi.\n",
      "I need help writing a stupid résumé lol\n",
      "So what happens now I don't get it ? #shutdown\n",
      "TIL: The designs of BMWs were taken to the UK as war reparation after WWII. The 507 almost bankrupt it. The Z is from German for \"future\".\n",
      "@miriambc03 @Ivounz jajajaja te acuso por bullying\n",
      "I just want to know how it's going to affect ME personally, I still don't understand what's happening lol\n",
      "*continues playing #GTAV*\n",
      "@KateNocera You are 4 days older than me.\n",
      "Hey Google where is this fabled \"Preferences\"? Stop tracking my searches. Kthxbye. http://t.co/vYzafZ4Uzx\n",
      "@miriambc03 q bueno que ya estas en twitter Miriam. Nos la pasamos bien chido verdad. @Ivounz jaja\n",
      "This is too traumatizing. I can't handle this torturing of people on this game gosh\n",
      "Lmfao it's been a year since #KaraAlongi\n",
      "@daiconrad I feel like the government is more likely to have those pictures given the NSA. Assuming those pictures of me with sheep exist.\n",
      "@jennyyyyc lol for class?! Glad you're back I miss u 😘💜💜💜\n",
      "Calláte vos\n",
      "“@iPhone_News: Apple confirms iOS 7 causing iMessage issues, says fix is in the works http://t.co/CgkEynHZmD #iPhone” @kotiehalttttt 😩\n",
      "I didn't play #GTAV today. I feel so incomplete\n",
      "@kotiehalttttt I know I'm bouta shower then while my hair dries before I go to sleep I shall play a lil ☺️ stupid resume taking my play time\n",
      "@jennyyyyc I finally have a car again so I'm gonna pick you guys up one of these days for creeeeeam\n",
      "Also, welcome @jennyyyyc to #TeamiPhone ! Lol 📱\n",
      "WHY DOES IT TAKE ME SO DAMN LONG TO GET IN THE SHOWER STOP INTERNET\n",
      "I'd like to publicly acknowledge and thank @kotiehalttttt for all her help today and all the time!!! Even though I get annoying hehe 💚💚💚\n",
      "@washingtonpost Pakistani govt doesn't do much so there's no difference either way. They don't even have rule of law in the frontiers.\n",
      "“@ptarkkonen: \"Bacon &amp; Eggs: Hens are involved, but pigs are committed\" #leadership” Heard this phrase first time only 3 days ago. Now again\n",
      "@JenicaChuahiock one very small step and many many more to go\n",
      "LOL LOUIS\n",
      "All the dems are claiming \"you know this is a law right?\" Just because it's a law doesn't make it right/appropriate/justified.\n",
      "I'm at Briarwood Apartments - @equityres (Sunnyvale, CA) http://t.co/pAbsgWJ9LS\n",
      "Why is everyone suddenly obsessed with fall. It's MY season. I loved it first. Y'all suck. Leave us alone. 🍁\n",
      "For real doe\n",
      "“@SorryImFromCali: Wanna hear a joke?\n",
      "\n",
      "Nevada.” @kotiehalttttt\n",
      "A bird just crapped on my thumb. Not even lying doe\n",
      "@bajito69 gracias al governador Gerardo Moreno, licencias para todos en California!\n",
      "Guess what I just got in the mail @AnarchyMyDeer ?? No articles about zac's drug hell tho http://t.co/p3KKTNZFDp\n",
      "Ratcheta jones\n",
      "Puig\n",
      "Lovin' having @SIRIUSXM in my car! Listening to the #Dodgers game woo http://t.co/NQinXFegLZ\n",
      "Ese es mi paisanoooo @AdrianTitan23 !!!! 💙⚾️\n",
      "@jennyyyyc HAHA oh man\n",
      "I'm so happy my first home @Dodgers game was this season! Back in mid-July when they were just on the way up and my dad knew they'd make it\n",
      "“@theprolificoven: Future home of our 5th location! We cannot wait!! #solstice #sunnyvale http://t.co/Q1utaoQRfQ” YAYYY SO CLOSE TO MEEEEEEE\n",
      "Football game tomorrow @AnarchyMyDeer !!\n",
      "Bases loadeddddd\n",
      "Take me out the ball game ⚾️💙\n",
      "“@1DPrime: Footballer Louis 2011 &amp; 2013 http://t.co/NqJDgwBE23” there's a face on his right knee 😟\n",
      "Another day in the books, full of corgis, wine,  job interviews and food network #whitegirlproblems #californiadreamin\n",
      "Oh wait. I won't be able to see the damn livestream just kill me\n",
      "@NiallOfficial ohnoooo\n",
      "@NiallOfficial what time is it there\n",
      "@LatinoKidProbs best thing ever\n",
      "@ClaytonKersh22 #BeastMode\n",
      "Can dis be ova so I can pee already\n",
      "They just said \"adrenaline junkies\" on the dodger game broadcast @marissayall\n",
      "I finally found out how to pronounce Greinke\n",
      "@bajito69 why aren't you watching the doyers game lol\n",
      "Still in my work clothes Lmao\n",
      "YEEEEE!!! 💙💙💙 @Dodgers !! #BeastMode\n",
      "@bajito69 I know I'm so excited. What are you guys watching I love lifetime\n",
      "Showers right before bed are the frickin best 😭💗🚿\n",
      "My friend last night when I dropped her off at home \"it smells nasty, like milpitas\" lol\n",
      "@AstroKatie What else would he be??\n",
      "@AstroKatie not a single episode but I know what it's about. He's a chemist, a drug dealer, or both?\n",
      "@selenamarie the Paulos book? Why indignant?\n",
      "Goodnight\n",
      "Watching the news just makes me angry. I think I need to go move to an island by myself.\n",
      "TIL: Khrushchev once floated with water wings with Mao in a pool in Beijing because he couldn't swim.\n",
      "@Julia_B \"A runner must run with dreams in his heart, not money in his pocket.\" - Emil Zatopek\n",
      "@b6n @wattersjames so Docker?\n",
      "If I can get through the next three weeks the rest of the quarter will be a breeze.\n",
      "@xTrishaMalik are you real lol\n",
      "oh. My. god.  Ed westwick has an accent. That just makes him so much hotter. I didn't even know. Oh god.\n",
      "I did not even know he was British lmfao\n",
      "Gahhhhh come on doyers\n",
      "F F S\n",
      "THE GUY JUST SAID MILEY CYRUS WOULD LOVE TO BE THERE CAUSE THE FOAM FINGERS. leave her out of baseball ugh\n",
      "Lets gooooooo @dodgers\n",
      "Theeeeere's your baby @10MARCY\n",
      "WOWEWWWWWWW\n",
      "Lmfao Gordon's face\n",
      "@Ivounz \"I'm right here babe\" http://t.co/CQc28RgURg\n",
      "My favorite Zayn pic\n",
      "Come on Carl\n",
      "Lol kemp picking stuff off his shirt\n",
      "See you on Sunday bitches\n",
      "Alright on to the football game go fremont!\n"
     ]
    }
   ],
   "source": [
    "labels = clustering_2[0].labels_\n",
    "data_batch = np.array([d['text'] for d in data])\n",
    "data_batch_1 = data_batch[clustering_1.labels_ == 0]\n",
    "data_batch_2 = data_batch_1[labels == 99]\n",
    "for i in range(len(data_batch_2)):\n",
    "    print(data_batch_2[i])"
   ]
  },
  {
   "cell_type": "code",
   "execution_count": null,
   "metadata": {},
   "outputs": [],
   "source": []
  }
 ],
 "metadata": {
  "kernelspec": {
   "display_name": "Python 3",
   "language": "python",
   "name": "python3"
  },
  "language_info": {
   "codemirror_mode": {
    "name": "ipython",
    "version": 3
   },
   "file_extension": ".py",
   "mimetype": "text/x-python",
   "name": "python",
   "nbconvert_exporter": "python",
   "pygments_lexer": "ipython3",
   "version": "3.6.5"
  }
 },
 "nbformat": 4,
 "nbformat_minor": 2
}
