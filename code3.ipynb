{
 "cells": [
  {
   "cell_type": "code",
   "execution_count": 4,
   "metadata": {},
   "outputs": [],
   "source": [
    "import numpy as np\n",
    "import json\n",
    "from sklearn.cluster import MiniBatchKMeans, KMeans, DBSCAN\n",
    "import time"
   ]
  },
  {
   "cell_type": "markdown",
   "metadata": {},
   "source": [
    "### Load Tweeter Data"
   ]
  },
  {
   "cell_type": "code",
   "execution_count": 6,
   "metadata": {},
   "outputs": [],
   "source": [
    "with open('../Assignment 2/tweets/tweets_1M.json') as data_file:    \n",
    "    data = json.load(data_file)"
   ]
  },
  {
   "cell_type": "markdown",
   "metadata": {},
   "source": [
    "## Q3.1"
   ]
  },
  {
   "cell_type": "code",
   "execution_count": 10,
   "metadata": {},
   "outputs": [
    {
     "name": "stderr",
     "output_type": "stream",
     "text": [
      "/usr/local/lib/python3.7/site-packages/sklearn/cluster/k_means_.py:971: ConvergenceWarning: Number of distinct clusters (97) found smaller than n_clusters (100). Possibly due to duplicate points in X.\n",
      "  return_n_iter=True)\n"
     ]
    },
    {
     "name": "stdout",
     "output_type": "stream",
     "text": [
      "n =  100 CPU time is  0.8396313190460205\n",
      "n =  1000 CPU time is  1.1103098392486572\n",
      "n =  2000 CPU time is  1.3515479564666748\n",
      "n =  4000 CPU time is  2.1037099361419678\n",
      "n =  6000 CPU time is  2.834425926208496\n",
      "n =  8000 CPU time is  3.347761869430542\n",
      "n =  10000 CPU time is  3.7228457927703857\n",
      "n =  20000 CPU time is  7.144405126571655\n",
      "n =  40000 CPU time is  20.793747186660767\n",
      "n =  60000 CPU time is  24.621317863464355\n",
      "n =  80000 CPU time is  29.61069393157959\n",
      "n =  100000 CPU time is  38.07827091217041\n"
     ]
    }
   ],
   "source": [
    "k = 100\n",
    "N = [10**2, 10**3, 2*10**3, 4*10**3, 6*10**3, 8*10**3, 10**4, 2*10**4, 4*10**4, 6*10**4, 8*10**4, 10**5]\n",
    "t_clustering_n = []\n",
    "for n in N:\n",
    "    curr = [[d['lat'], d['lng']] for d in data[:n]]\n",
    "    t0 = time.time()\n",
    "    _ = KMeans(n_clusters=k, max_iter=10000).fit(curr)\n",
    "    t_clustering = time.time() - t0\n",
    "    t_clustering_n.append(t_clustering)\n",
    "    print('n = ', n, 'CPU time is ', t_clustering)"
   ]
  },
  {
   "cell_type": "code",
   "execution_count": 22,
   "metadata": {},
   "outputs": [
    {
     "name": "stdout",
     "output_type": "stream",
     "text": [
      "k =  10 CPU time is  2.288602828979492\n",
      "k =  50 CPU time is  18.544316053390503\n",
      "k =  100 CPU time is  38.5298171043396\n",
      "k =  200 CPU time is  105.7336356639862\n",
      "k =  500 CPU time is  328.12894105911255\n",
      "k =  1000 CPU time is  673.9429159164429\n"
     ]
    }
   ],
   "source": [
    "K = [10, 50, 100, 200, 500, 1000]\n",
    "data_k = [[d['lat'], d['lng']] for d in data[:10**5]]\n",
    "t_clustering_k = []\n",
    "for k in K:\n",
    "    t0 = time.time()\n",
    "    _ = KMeans(n_clusters=k, max_iter=10000).fit(data_k)\n",
    "    t_clustering = time.time() - t0\n",
    "    t_clustering_k.append(t_clustering)\n",
    "    print('k = ', k, 'CPU time is ', t_clustering)"
   ]
  },
  {
   "cell_type": "markdown",
   "metadata": {},
   "source": [
    "## Q3.2"
   ]
  },
  {
   "cell_type": "code",
   "execution_count": 17,
   "metadata": {},
   "outputs": [
    {
     "name": "stdout",
     "output_type": "stream",
     "text": [
      "n = 100 , CPU time is 0.22351384162902832 increased by 73.37952544659933 %\n",
      "n = 1000 , CPU time is 0.3039970397949219 increased by 72.62052185355435 %\n",
      "n = 2000 , CPU time is 0.1799759864807129 increased by 86.68371435733434 %\n",
      "n = 4000 , CPU time is 0.24611902236938477 increased by 88.30071493502821 %\n",
      "n = 6000 , CPU time is 0.4694957733154297 increased by 83.4359483881995 %\n",
      "n = 8000 , CPU time is 0.22918081283569336 increased by 93.15420804184387 %\n",
      "n = 10000 , CPU time is 0.9284617900848389 increased by 75.06042845266721 %\n",
      "n = 20000 , CPU time is 0.4941880702972412 increased by 93.08286608133062 %\n",
      "n = 40000 , CPU time is 2.0515658855438232 increased by 90.13373651642785 %\n",
      "n = 60000 , CPU time is 5.491419076919556 increased by 77.69648599895504 %\n",
      "n = 80000 , CPU time is 1.1916799545288086 increased by 95.97550818200214 %\n",
      "n = 100000 , CPU time is 1.4075579643249512 increased by 96.30351397107405 %\n"
     ]
    }
   ],
   "source": [
    "for i in range(len(N)):\n",
    "    curr = [[d['lat'], d['lng']] for d in data[:N[i]]]\n",
    "    t0 = time.time()\n",
    "    _ = MiniBatchKMeans(n_clusters=100, max_iter=10000).fit(curr)\n",
    "    t_clustering = time.time() - t0\n",
    "    increase = (t_clustering_n[i] - t_clustering) / t_clustering_n[i] * 100\n",
    "    print('n =', N[i], ', CPU time is', t_clustering, 'increased by', increase, \"%\")"
   ]
  },
  {
   "cell_type": "code",
   "execution_count": 24,
   "metadata": {},
   "outputs": [
    {
     "name": "stdout",
     "output_type": "stream",
     "text": [
      "k = 10 , CPU time is 0.8022170066833496 increased by 64.94730337106745 %\n",
      "k = 50 , CPU time is 3.549004077911377 increased by 80.86203843973796 %\n",
      "k = 100 , CPU time is 1.2910478115081787 increased by 96.64922413721303 %\n",
      "k = 200 , CPU time is 1.0156538486480713 increased by 99.03942218361266 %\n",
      "k = 500 , CPU time is 3.6834230422973633 increased by 98.87744646040417 %\n",
      "k = 1000 , CPU time is 6.774209022521973 increased by 98.99483934580569 %\n"
     ]
    }
   ],
   "source": [
    "for i in range(len(K)):\n",
    "    t0 = time.time()\n",
    "    _ = MiniBatchKMeans(n_clusters=K[i], max_iter=10000, init_size=3*K[i]).fit(data_k)\n",
    "    t_clustering = time.time() - t0\n",
    "    increase = (t_clustering_k[i] - t_clustering) / t_clustering_k[i] * 100\n",
    "    print('k =', K[i], ', CPU time is', t_clustering, 'increased by', increase, \"%\")"
   ]
  },
  {
   "cell_type": "markdown",
   "metadata": {},
   "source": [
    "## Q3.3"
   ]
  },
  {
   "cell_type": "code",
   "execution_count": null,
   "metadata": {},
   "outputs": [],
   "source": [
    "data3 = [[d['lat'], d['lng']] for d in data[:100000]]\n",
    "clustering = DBSCAN(eps=0.2, min_samples=100, n_jobs=3).fit(data3)\n",
    "print(len(clustering.core_sample_indices_))"
   ]
  },
  {
   "cell_type": "code",
   "execution_count": null,
   "metadata": {},
   "outputs": [],
   "source": [
    "# Reference: https://stackoverflow.com/questions/19412462/getting-distance-between-two-points-based-on-latitude-longitude\n",
    "from math import sin, cos, sqrt, atan2, radians\n",
    "def measure(loc1, loc2):\n",
    "    # approximate radius of earth in km\n",
    "    R = 6373.0\n",
    "    lat1 = radians(loc1[0])\n",
    "    lon1 = radians(loc1[1])\n",
    "    lat2 = radians(loc2[0])\n",
    "    lon2 = radians(loc2[1])\n",
    "\n",
    "    dlon, dlat = lon2 - lon1, lat2 - lat1\n",
    "    a = sin(dlat / 2)**2 + cos(lat1) * cos(lat2) * sin(dlon / 2)**2\n",
    "    c = 2 * atan2(sqrt(a), sqrt(1 - a))\n",
    "    return R * c"
   ]
  },
  {
   "cell_type": "code",
   "execution_count": null,
   "metadata": {},
   "outputs": [],
   "source": []
  },
  {
   "cell_type": "markdown",
   "metadata": {},
   "source": [
    "## Q3.4"
   ]
  },
  {
   "cell_type": "code",
   "execution_count": null,
   "metadata": {},
   "outputs": [],
   "source": []
  },
  {
   "cell_type": "markdown",
   "metadata": {},
   "source": [
    "## Q3.5 (Bonus +5)"
   ]
  },
  {
   "cell_type": "code",
   "execution_count": null,
   "metadata": {},
   "outputs": [],
   "source": []
  }
 ],
 "metadata": {
  "kernelspec": {
   "display_name": "Python 3",
   "language": "python",
   "name": "python3"
  },
  "language_info": {
   "codemirror_mode": {
    "name": "ipython",
    "version": 3
   },
   "file_extension": ".py",
   "mimetype": "text/x-python",
   "name": "python",
   "nbconvert_exporter": "python",
   "pygments_lexer": "ipython3",
   "version": "3.7.2"
  }
 },
 "nbformat": 4,
 "nbformat_minor": 2
}
